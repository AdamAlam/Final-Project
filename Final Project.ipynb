{
 "cells": [
  {
   "cell_type": "code",
   "execution_count": 1,
   "metadata": {},
   "outputs": [],
   "source": [
    "import math\n",
    "import ipyleaflet\n",
    "from ipyleaflet import *\n",
    "import json\n",
    "import pandas as pd\n",
    "import requests\n",
    "import geopandas\n",
    "import ipywidgets as widgets\n",
    "from ipywidgets import *\n",
    "from branca.colormap import linear\n",
    "from datetime import datetime\n",
    "from IPython.display import clear_output"
   ]
  },
  {
   "cell_type": "code",
   "execution_count": 2,
   "metadata": {},
   "outputs": [],
   "source": [
    "# import the dataset as a pandas dataframe\n",
    "df = pd.read_csv(\"fire.csv\")"
   ]
  },
  {
   "cell_type": "code",
   "execution_count": 3,
   "metadata": {},
   "outputs": [],
   "source": [
    "'''\n",
    "because the dataset does not have a state name column, this process creates a state column \n",
    "using the FIRE_ID so that we are able to create a choropleth\n",
    "'''\n",
    "state_names = [\"AL\", \"AK\", \"AZ\", \"AR\", \"CA\", \"CO\", \"CT\", \"DE\", \"FL\", \"GA\", \n",
    "          \"HI\", \"ID\", \"IL\", \"IN\", \"IA\", \"KS\", \"KY\", \"LA\", \"ME\", \"MD\", \n",
    "          \"MA\", \"MI\", \"MN\", \"MS\", \"MO\", \"MT\", \"NE\", \"NV\", \"NH\", \"NJ\", \n",
    "          \"NM\", \"NY\", \"NC\", \"ND\", \"OH\", \"OK\", \"OR\", \"PA\", \"RI\", \"SC\", \n",
    "          \"SD\", \"TN\", \"TX\", \"UT\", \"VT\", \"VA\", \"WA\", \"WV\", \"WI\", \"WY\"]\n",
    "\n",
    "state_list = []\n",
    "for (index, row) in df.iterrows():\n",
    "    state_list.append(row.loc['FIRE_ID'][:2])\n",
    "df['STATE'] = state_list\n",
    "df = df[df.STATE != \"PR\"]\n"
   ]
  },
  {
   "cell_type": "code",
   "execution_count": 4,
   "metadata": {},
   "outputs": [],
   "source": [
    "# deleting unecessary columns\n",
    "del df['PRE_ID']\n",
    "del df['POST_ID']\n",
    "del df['NODATA_THRESHOLD']\n",
    "del df['LOW_THRESHOLD']\n",
    "del df['MODERATE_THRESHOLD']\n",
    "del df['HIGH_THRESHOLD']\n",
    "del df['GREENNESS_THRESHOLD']"
   ]
  },
  {
   "cell_type": "code",
   "execution_count": 5,
   "metadata": {},
   "outputs": [],
   "source": [
    "def load_data(url, filename, file_type):\n",
    "    r = requests.get(url)\n",
    "    with open(filename, 'w') as f:\n",
    "        f.write(r.content.decode(\"utf-8\"))\n",
    "    with open(filename, 'r') as f:\n",
    "        return file_type(f)\n",
    "    \n",
    "geo_json_data = load_data(\n",
    "    'https://raw.githubusercontent.com/jupyter-widgets/ipyleaflet/master/examples/us-states.json',\n",
    "    'us-states.json',\n",
    "     json.load)\n",
    "\n",
    "# this function allows us to visualize the size of the fire by converting acres to radius\n",
    "# this is an estimation as fires do not spread in perfect circles, however the size of area affected is accurate\n",
    "def acres_to_radius(a):\n",
    "    sq_meter = int(a) * 4046.86\n",
    "    radius = math.sqrt(sq_meter/math.pi)\n",
    "    return int(radius)\n",
    "\n",
    "\n",
    "\n",
    "# because the dataset uses a timestamp format, if we want to filter by month, we must convert it to the standard format\n",
    "# we add columns for the month, year, and day of the fire so that it is easier to understand by looking at the dataframe\n",
    "# this also makes the date easier to work with through interaction when filtering\n",
    "year = []\n",
    "months = []\n",
    "days = []\n",
    "for (index, row) in df.iterrows():\n",
    "    this_year = datetime.fromtimestamp(int(row.loc['IG_DATE'])/1000).year\n",
    "    this_month = datetime.fromtimestamp(int(row.loc['IG_DATE'])/1000).month\n",
    "    this_day = datetime.fromtimestamp(int(row.loc['IG_DATE'])/1000).day\n",
    "    year.append(this_year)\n",
    "    months.append(this_month)\n",
    "    days.append(this_day)\n",
    "df['MONTH'] = months\n",
    "df['DAY'] = days\n",
    "df['YEAR'] = year"
   ]
  },
  {
   "cell_type": "code",
   "execution_count": 6,
   "metadata": {
    "scrolled": false
   },
   "outputs": [
    {
     "data": {
      "application/vnd.jupyter.widget-view+json": {
       "model_id": "4f3a176efa2d41ae9feec6c0290ed2e4",
       "version_major": 2,
       "version_minor": 0
      },
      "text/plain": [
       "Dropdown(description='State', index=7, options=('ALL', 'AK', 'AL', 'AR', 'AZ', 'CA', 'CO', 'FL', 'GA', 'ID', '…"
      ]
     },
     "metadata": {},
     "output_type": "display_data"
    },
    {
     "data": {
      "application/vnd.jupyter.widget-view+json": {
       "model_id": "1e148fb4ea74445b84707d89b6168c17",
       "version_major": 2,
       "version_minor": 0
      },
      "text/plain": [
       "Dropdown(description='Month', options=('ALL', 1, 2, 3, 4, 5, 6, 7, 8, 9, 10, 11, 12), value='ALL')"
      ]
     },
     "metadata": {},
     "output_type": "display_data"
    },
    {
     "data": {
      "application/vnd.jupyter.widget-view+json": {
       "model_id": "b14709b6f1fb472eafba48f82d362ef3",
       "version_major": 2,
       "version_minor": 0
      },
      "text/plain": [
       "Dropdown(description='Fire Type', options=('ALL', 'Prescribed Fire', 'Unknown', 'Wildfire'), value='ALL')"
      ]
     },
     "metadata": {},
     "output_type": "display_data"
    },
    {
     "data": {
      "application/vnd.jupyter.widget-view+json": {
       "model_id": "2d0f50e526054ff08c61e1da0bcfbb5a",
       "version_major": 2,
       "version_minor": 0
      },
      "text/plain": [
       "Checkbox(value=False, description='View Match Detail')"
      ]
     },
     "metadata": {},
     "output_type": "display_data"
    },
    {
     "data": {
      "application/vnd.jupyter.widget-view+json": {
       "model_id": "e271b196e8b4408f9a786355e197e062",
       "version_major": 2,
       "version_minor": 0
      },
      "text/plain": [
       "Checkbox(value=False, description='Choropleth')"
      ]
     },
     "metadata": {},
     "output_type": "display_data"
    },
    {
     "data": {
      "application/vnd.jupyter.widget-view+json": {
       "model_id": "0da28c90df3849308f138997a9aeb15b",
       "version_major": 2,
       "version_minor": 0
      },
      "text/plain": [
       "Button(description='Generate Map', style=ButtonStyle())"
      ]
     },
     "metadata": {},
     "output_type": "display_data"
    },
    {
     "data": {
      "application/vnd.jupyter.widget-view+json": {
       "model_id": "e54e4ff3ae2441cebf286ef3cc2a0641",
       "version_major": 2,
       "version_minor": 0
      },
      "text/plain": [
       "Map(center=[39, -100], controls=(ZoomControl(options=['position', 'zoom_in_text', 'zoom_in_title', 'zoom_out_t…"
      ]
     },
     "metadata": {},
     "output_type": "display_data"
    }
   ],
   "source": [
    "# this begins our filtering process. For example, if we do not wish to filter by month, we can set this value to ALL\n",
    "ALL = 'ALL'\n",
    "def unique_sorted_values_plus_ALL(array):\n",
    "    unique = array.unique().tolist()\n",
    "    unique.sort()\n",
    "    unique.insert(0, ALL)\n",
    "    return unique\n",
    "\n",
    "# this function creates and returns a choropleth map given a filtered dataframe\n",
    "def create_choro(df):\n",
    "    cho_data = df['STATE'].value_counts().to_dict()\n",
    "    for state in state_names:\n",
    "        keys = list(cho_data.keys())\n",
    "        if state not in keys:\n",
    "            cho_data[state] = 0\n",
    "    choro = ipyleaflet.Choropleth(\n",
    "        name=\"Choropleth\",\n",
    "        geo_data = geo_json_data,\n",
    "        choro_data = cho_data,\n",
    "        colormap=linear.YlOrRd_07,\n",
    "        border_color='black',\n",
    "        style={'fillOpacity': 0.7, 'dashArray': '3, 3'}\n",
    "    )\n",
    "    choro_map = ipyleaflet.Map(zoom=4, center = (39,-100))\n",
    "    choro_map.add_layer(choro)\n",
    "    return choro_map\n",
    "\n",
    "# this function allows us to export our filtered dataframe as a CSV file\n",
    "def export(a):\n",
    "    new_df = df.copy(deep=True)\n",
    "    if dropdown_state.value != ALL:\n",
    "        new_df = new_df[new_df.STATE == dropdown_state.value]\n",
    "    if dropdown_type.value != ALL:\n",
    "        new_df = new_df[new_df.FIRE_TYPE == dropdown_type.value]\n",
    "    if dropdown_month.value != ALL:\n",
    "        new_df = new_df[new_df.MONTH == dropdown_month.value]\n",
    "    new_df.to_csv(r\"Matches.csv\")\n",
    "    print(\"Exported CSV as 'Matches.csv'\")\n",
    "\n",
    "# this function dictates what happens when the generate map button is clicked\n",
    "def clicked(b):\n",
    "#   I put clear output so that the previous maps generated are cleared\n",
    "    clear_output()\n",
    "#   because the previous output was cleared, we must once again display all of our filters and our generate map button\n",
    "    display(dropdown_state)\n",
    "    display(dropdown_month)\n",
    "    display(dropdown_type)\n",
    "    display(show_matches)\n",
    "    display(check_choro)\n",
    "    display(generate) \n",
    "#     a new map is created\n",
    "    new_map = ipyleaflet.Map(zoom=4, center = (39,-100))\n",
    "#     we copy the orignal dataframe so we can apply the selected filters without deleting data\n",
    "    new_df = df.copy(deep=True)\n",
    "#     each of these if statements filters the data so that only the selected value in the dropdown remains in the dataset\n",
    "#     the filters check the value selected and exclude all other data\n",
    "    if dropdown_state.value != ALL:\n",
    "        new_df = new_df[new_df.STATE == dropdown_state.value]\n",
    "    if dropdown_type.value != ALL:\n",
    "        new_df = new_df[new_df.FIRE_TYPE == dropdown_type.value]\n",
    "    if dropdown_month.value != ALL:\n",
    "        new_df = new_df[new_df.MONTH == dropdown_month.value]\n",
    "#   at this point the data is filtered\n",
    "#   this filter checks if the user wants a choropleth, if so one is created and the new map is set to the created choropleth and displayed\n",
    "    if check_choro.value == True:\n",
    "        new_map = create_choro(new_df)\n",
    "        display(new_map)\n",
    "#       the choropleth checks if the user wishes to display the details of the fire\n",
    "        if show_matches.value:\n",
    "            display(new_df)\n",
    "#       this return statements stops the function from further adding points to the map as the choropleth has already been generated\n",
    "        return\n",
    "#   Now, since the data is filtered and the user has chosen not to view a choropleth, points are added to the map one by one.\n",
    "    for (index, row) in new_df.iterrows():\n",
    "#       this marker allows for the user to hover over the different fires and see their names, type, and area.   \n",
    "        marker = Marker(location=(row.loc['LATITUDE'], row.loc['LONGITUDE']), title=row.loc['FIRE_NAME'] + \": \" + row.loc['FIRE_TYPE'] + \"; \" + str(row.loc['ACRES']) + \" Acres\", visible=False, draggable=False)\n",
    "#       The fucntion checks which type of fire is being plotted so that it may be color coded.\n",
    "        if row.loc['FIRE_TYPE'] == \"Wildfire\":\n",
    "#           when the circle is added, the radius is determed by the above function \"acres to radius\". The resulting circle has the same area specified by the dataset  \n",
    "            circle = Circle(location=[row.loc['LATITUDE'], row.loc['LONGITUDE']], radius=acres_to_radius(row.loc['ACRES']), fill_color=\"#FF0000\", fill_opacity=.75, stroke=False)\n",
    "        elif row.loc['FIRE_TYPE'] == \"Prescribed Fire\":\n",
    "            circle = Circle(location=[row.loc['LATITUDE'], row.loc['LONGITUDE']], radius=acres_to_radius(row.loc['ACRES']), fill_color=\"#FFA500\", fill_opacity=.75, stroke=False)\n",
    "        elif row.loc['FIRE_TYPE'] == \"Unknown\":\n",
    "            circle = Circle(location=[row.loc['LATITUDE'], row.loc['LONGITUDE']], radius=acres_to_radius(row.loc['ACRES']), fill_color=\"#000000\", fill_opacity=.75, stroke=False)\n",
    "#       the circles and labels are added to the map  \n",
    "        new_map.add_layer(circle)\n",
    "        new_map.add_layer(marker)\n",
    "\n",
    "#   the map with all of the filtered points is now displayed\n",
    "    display(new_map)\n",
    "#   if the user chose to show the details of the matches, the details are displayed, and the export as csv option is now available\n",
    "    if show_matches.value:\n",
    "        display(new_df)\n",
    "        print(len(new_df))\n",
    "        display(export_csv)\n",
    "        \n",
    "    \n",
    "\n",
    "export_csv = widgets.Button(description=\"Export as CSV\")\n",
    "export_csv.on_click(export)\n",
    "generate = widgets.Button(description=\"Generate Map\")\n",
    "generate.on_click(clicked)\n",
    "dropdown_month = widgets.Dropdown(options = unique_sorted_values_plus_ALL(df.MONTH), description = \"Month\")\n",
    "dropdown_type = widgets.Dropdown(options = unique_sorted_values_plus_ALL(df.FIRE_TYPE), description = \"Fire Type\")\n",
    "dropdown_state = widgets.Dropdown(options = unique_sorted_values_plus_ALL(df.STATE), description =\"State\")\n",
    "show_matches = widgets.Checkbox(\n",
    "    value=False,\n",
    "    description='View Match Detail',\n",
    "    disabled=False,\n",
    "    indent=True\n",
    ")\n",
    "check_choro = widgets.Checkbox(\n",
    "    value=False,\n",
    "    description='Choropleth',\n",
    "    disabled=False,\n",
    "    indent=True\n",
    ")\n",
    "\n",
    "display(dropdown_state)\n",
    "display(dropdown_month)\n",
    "display(dropdown_type)\n",
    "display(show_matches)\n",
    "display(check_choro)\n",
    "display(generate)"
   ]
  },
  {
   "cell_type": "code",
   "execution_count": null,
   "metadata": {},
   "outputs": [],
   "source": []
  },
  {
   "cell_type": "code",
   "execution_count": null,
   "metadata": {},
   "outputs": [],
   "source": []
  }
 ],
 "metadata": {
  "kernelspec": {
   "display_name": "Python 3",
   "language": "python",
   "name": "python3"
  },
  "language_info": {
   "codemirror_mode": {
    "name": "ipython",
    "version": 3
   },
   "file_extension": ".py",
   "mimetype": "text/x-python",
   "name": "python",
   "nbconvert_exporter": "python",
   "pygments_lexer": "ipython3",
   "version": "3.7.4"
  }
 },
 "nbformat": 4,
 "nbformat_minor": 2
}
